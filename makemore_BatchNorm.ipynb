{
 "cells": [
  {
   "cell_type": "code",
   "execution_count": 1,
   "metadata": {},
   "outputs": [],
   "source": [
    "import torch\n",
    "import torch.nn.functional as F\n",
    "import random\n",
    "import math\n",
    "import autograd.numpy as np\n",
    "import matplotlib.pyplot as plt\n",
    "from autograd import grad\n",
    "%matplotlib inline\n"
   ]
  },
  {
   "cell_type": "code",
   "execution_count": 2,
   "metadata": {},
   "outputs": [
    {
     "data": {
      "text/plain": [
       "['emma', 'olivia', 'ava', 'isabella', 'sophia', 'charlotte', 'mia', 'amelia']"
      ]
     },
     "execution_count": 2,
     "metadata": {},
     "output_type": "execute_result"
    }
   ],
   "source": [
    "# read in all the words\n",
    "words = open('names.txt', 'r').read().splitlines()\n",
    "words[:8]"
   ]
  },
  {
   "cell_type": "code",
   "execution_count": 4,
   "metadata": {},
   "outputs": [
    {
     "name": "stdout",
     "output_type": "stream",
     "text": [
      "{1: 'a', 2: 'b', 3: 'c', 4: 'd', 5: 'e', 6: 'f', 7: 'g', 8: 'h', 9: 'i', 10: 'j', 11: 'k', 12: 'l', 13: 'm', 14: 'n', 15: 'o', 16: 'p', 17: 'q', 18: 'r', 19: 's', 20: 't', 21: 'u', 22: 'v', 23: 'w', 24: 'x', 25: 'y', 26: 'z', 0: '.'}\n",
      "27\n"
     ]
    }
   ],
   "source": [
    "chars = sorted(list(set(''.join(words))))\n",
    "stoi = {s:i+1 for i,s in enumerate(chars)}\n",
    "stoi['.'] = 0\n",
    "itos = {i:s for s,i in stoi.items()}\n",
    "vocab_size = len(itos)\n",
    "print(itos)\n",
    "print(vocab_size)"
   ]
  },
  {
   "cell_type": "code",
   "execution_count": 11,
   "metadata": {},
   "outputs": [
    {
     "name": "stdout",
     "output_type": "stream",
     "text": [
      "torch.Size([182437, 3]) torch.Size([182437])\n",
      "torch.Size([22781, 3]) torch.Size([22781])\n",
      "torch.Size([22928, 3]) torch.Size([22928])\n"
     ]
    }
   ],
   "source": [
    "# build the dataset\n",
    "block_size = 3 # context length: how many characters do we take to predict the next one?\n",
    "\n",
    "def build_dataset(words):\n",
    "    X, Y = [], []\n",
    "\n",
    "    for w in words:\n",
    "        context = [0] * block_size\n",
    "        for ch in w + '.':\n",
    "            ix = stoi[ch]\n",
    "            X.append(context)\n",
    "            Y.append(ix)\n",
    "            context = context[1:] + [ix] # crop and append\n",
    "    X_ = np.array(X)\n",
    "    Y_ = np.array(Y)\n",
    "    X = torch.tensor(X)\n",
    "    Y = torch.tensor(Y)\n",
    "    \n",
    "    print(X.shape, Y.shape)\n",
    "    return X, Y, X_, Y_\n",
    "\n",
    "import random\n",
    "random.seed(42)\n",
    "random.shuffle(words)\n",
    "n1 = int(0.8*len(words))\n",
    "n2 = int(0.9*len(words))\n",
    "\n",
    "Xtr,  Ytr, Xtr_, Ytr_= build_dataset(words[:n1])     # 80%\n",
    "Xdev, Ydev, Xdev_, Ydev_ = build_dataset(words[n1:n2])   # 10%\n",
    "Xte,  Yte, Xte_, Yte_ = build_dataset(words[n2:])     # 10%"
   ]
  },
  {
   "cell_type": "code",
   "execution_count": 12,
   "metadata": {},
   "outputs": [
    {
     "name": "stdout",
     "output_type": "stream",
     "text": [
      "11897\n"
     ]
    }
   ],
   "source": [
    "# MLP \n",
    "n_embd = 10 # the dimensionality of the character embedding vectors\n",
    "n_hidden = 200 # the number of neurons in the hidden layer of the MLP\n",
    "\n",
    "g = torch.Generator().manual_seed(2147483647)       # for reproducibility\n",
    "C  = torch.randn((vocab_size, n_embd),            generator=g)\n",
    "W1 = torch.randn((n_embd * block_size, n_hidden), generator=g)\n",
    "b1 = torch.randn(n_hidden,                        generator=g)\n",
    "W2 = torch.randn((n_hidden, vocab_size),          generator=g) \n",
    "b2 = torch.randn(vocab_size,                      generator=g) \n",
    "\n",
    "\n",
    "parameters = [C, W1, b1, W2, b2]\n",
    "\n",
    "print(sum(p.nelement() for p in parameters))        # number of parameters in total\n",
    "\n",
    "for p in parameters:\n",
    "      p.requires_grad = True"
   ]
  },
  {
   "cell_type": "code",
   "execution_count": 17,
   "metadata": {},
   "outputs": [
    {
     "name": "stdout",
     "output_type": "stream",
     "text": [
      "11897\n"
     ]
    }
   ],
   "source": [
    "# MLP \n",
    "\n",
    "C_  = np.random.randn(vocab_size, n_embd)\n",
    "W1_ = np.random.randn(n_embd * block_size, n_hidden)\n",
    "b1_ = np.random.randn(n_hidden)\n",
    "W2_ = np.random.randn(n_hidden, vocab_size)\n",
    "b2_ = np.random.randn(vocab_size)\n",
    "\n",
    "\n",
    "parameters_= [C_, W1_, b1_, W2_, b2_]\n",
    "\n",
    "print(sum(p_.size for p_ in parameters_)\n",
    ")        # number of parameters in total"
   ]
  },
  {
   "cell_type": "code",
   "execution_count": 18,
   "metadata": {},
   "outputs": [
    {
     "name": "stdout",
     "output_type": "stream",
     "text": [
      "      0/ 200000: 2.1432\n",
      "  10000/ 200000: 1.8742\n",
      "  20000/ 200000: 2.6719\n",
      "  30000/ 200000: 2.2426\n",
      "  40000/ 200000: 2.5227\n",
      "  50000/ 200000: 2.1391\n",
      "  60000/ 200000: 2.2380\n",
      "  70000/ 200000: 2.1800\n",
      "  80000/ 200000: 2.4692\n",
      "  90000/ 200000: 1.9611\n",
      " 100000/ 200000: 2.2215\n",
      " 110000/ 200000: 2.3536\n",
      " 120000/ 200000: 2.4447\n",
      " 130000/ 200000: 2.1403\n",
      " 140000/ 200000: 1.8334\n",
      " 150000/ 200000: 2.7054\n",
      " 160000/ 200000: 1.9989\n",
      " 170000/ 200000: 2.1356\n",
      " 180000/ 200000: 2.1756\n",
      " 190000/ 200000: 1.9514\n"
     ]
    }
   ],
   "source": [
    "# same optimization as last time\n",
    "max_steps = 200000\n",
    "batch_size = 32\n",
    "lossi = []\n",
    "\n",
    "for i in range(max_steps):\n",
    "\n",
    "    # minibatch construct\n",
    "    ix = torch.randint(0, len(Xtr), (batch_size,), generator=g)\n",
    "    Xb, Yb = Xtr[ix], Ytr[ix]                        # batch X, Y\n",
    "\n",
    "    # forward pass\n",
    "    emb = C[Xb]                                      # embed characters into vector space\n",
    "    embcat = emb.view((emb.shape[0], -1))            # flatten (concatenate the vectors)\n",
    "    hpreact = embcat @ W1 + b1                       # hidden layer pre-activation\n",
    "    h = torch.tanh(hpreact)                          # hidden layer activation\n",
    "    logits = h @ W2 + b2                             # output layer \n",
    "    loss = F.cross_entropy(logits, Yb)               # cross-entropy loss function\n",
    "\n",
    "    # backward pass\n",
    "    for p in parameters:\n",
    "        p.grad = None\n",
    "    loss.backward()\n",
    "\n",
    "    # update\n",
    "    lr = 0.1 if i < 100000 else 0.01                 # step learning rate decay\n",
    "    for p in parameters:\n",
    "        p.data -= lr * p.grad\n",
    "    \n",
    "    # track stats\n",
    "    if i % 10000 == 0:                               # print every once in a while\n",
    "        print(f'{i:7d}/{max_steps:7d}: {loss.item():.4f}')\n",
    "    lossi.append(loss.log10().item())"
   ]
  },
  {
   "cell_type": "code",
   "execution_count": 19,
   "metadata": {},
   "outputs": [
    {
     "data": {
      "image/png": "[encoded data removed]",
      "text/plain": [
       "<Figure size 640x480 with 1 Axes>"
      ]
     },
     "metadata": {},
     "output_type": "display_data"
    }
   ],
   "source": [
    "plt.plot(lossi)\n",
    "plt.show()"
   ]
  },
  {
   "cell_type": "code",
   "execution_count": null,
   "metadata": {},
   "outputs": [
    {
     "name": "stdout",
     "output_type": "stream",
     "text": [
      "      0/ 200000: 26.3810\n",
      "  10000/ 200000: 3.0076\n",
      "  20000/ 200000: 2.7372\n",
      "  30000/ 200000: 2.9754\n",
      "  40000/ 200000: 2.9455\n"
     ]
    }
   ],
   "source": [
    "max_steps = 200000\n",
    "\n",
    "batch_size = 32\n",
    "lossi_ = []\n",
    "\n",
    "def softmax(logits):\n",
    "    exp_logits = np.exp(logits - np.max(logits, axis=1, keepdims=True))  # for stability\n",
    "    return exp_logits/np.sum(exp_logits, axis = 1, keepdims=True)\n",
    "\n",
    "def cross_entropy(logits, targets):\n",
    "    probs = softmax(logits)\n",
    "    log_probs = -np.log(probs[np.arange(len(targets)), targets])\n",
    "    return np.mean(log_probs)\n",
    "\n",
    "def forward(Xb, Yb, C, W1, b1, W2, b2):\n",
    "    emb = C[Xb]                           # (B, block_size, n_embd)\n",
    "    embcat = emb.reshape((emb.shape[0], -1))     # (B, block_size * n_embd)\n",
    "    hpreact = embcat @ W1 + b1                   # (B, n_hidden)\n",
    "    h = np.tanh(hpreact)                         # (B, n_hidden)\n",
    "    logits = h @ W2 + b2                         # (B, vocab_size)\n",
    "    loss = cross_entropy(logits, Yb)\n",
    "    return loss\n",
    "\n",
    "\n",
    "loss_grad = grad(forward, argnum=(2, 3, 4, 5, 6))  # gradients w.r.t. C, W1, b1, W2, b2\n",
    "\n",
    "\n",
    "for i in range(max_steps):\n",
    "    # Random batch of indices\n",
    "    ix_ = np.random.choice(len(Xtr_), size=batch_size, replace=False)\n",
    "    Xb_, Yb_ = Xtr_[ix], Ytr_[ix_]\n",
    "\n",
    "    # Forward and backward pass\n",
    "    loss = forward(Xb_, Yb_, C_, W1_, b1_, W2_, b2_)\n",
    "    gC, gW1, gb1, gW2, gb2 = loss_grad(Xb_, Yb_, C_, W1_, b1_, W2_, b2_)\n",
    "\n",
    "    # Update\n",
    "    lr = 0.1 if i < 100000 else 0.01\n",
    "    C_  -= lr * gC\n",
    "    W1_ -= lr * gW1\n",
    "    b1_ -= lr * gb1\n",
    "    W2_ -= lr * gW2\n",
    "    b2_ -= lr * gb2\n",
    "\n",
    "    # Stats\n",
    "    if i % 10000 == 0:\n",
    "        print(f'{i:7d}/{max_steps:7d}: {loss:.4f}')\n",
    "    lossi_.append(np.log10(loss))"
   ]
  },
  {
   "cell_type": "code",
   "execution_count": null,
   "metadata": {},
   "outputs": [],
   "source": []
  }
 ],
 "metadata": {
  "kernelspec": {
   "display_name": "base",
   "language": "python",
   "name": "python3"
  },
  "language_info": {
   "codemirror_mode": {
    "name": "ipython",
    "version": 3
   },
   "file_extension": ".py",
   "mimetype": "text/x-python",
   "name": "python",
   "nbconvert_exporter": "python",
   "pygments_lexer": "ipython3",
   "version": "3.10.9"
  }
 },
 "nbformat": 4,
 "nbformat_minor": 2
}
